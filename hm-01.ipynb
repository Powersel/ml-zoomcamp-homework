{
 "cells": [
  {
   "metadata": {
    "ExecuteTime": {
     "end_time": "2025-10-01T21:54:04.141608Z",
     "start_time": "2025-10-01T21:54:03.862384Z"
    }
   },
   "cell_type": "code",
   "source": [
    "import pandas as pd\n",
    "import numpy as np\n",
    "df = pd.read_csv('https://raw.githubusercontent.com/alexeygrigorev/datasets/master/car_fuel_efficiency.csv')"
   ],
   "id": "a1e65a50e6b641b",
   "outputs": [],
   "execution_count": 44
  },
  {
   "metadata": {
    "ExecuteTime": {
     "end_time": "2025-10-01T21:54:04.153787Z",
     "start_time": "2025-10-01T21:54:04.150979Z"
    }
   },
   "cell_type": "code",
   "source": [
    "# Question 2. Records count\n",
    "row_count = len(df)\n",
    "print('Amount of rows in cvs file: ', row_count)"
   ],
   "id": "b5ec15c18539bcbd",
   "outputs": [
    {
     "name": "stdout",
     "output_type": "stream",
     "text": [
      "Amount of rows in cvs file:  9704\n"
     ]
    }
   ],
   "execution_count": 45
  },
  {
   "metadata": {
    "ExecuteTime": {
     "end_time": "2025-10-01T21:54:04.175034Z",
     "start_time": "2025-10-01T21:54:04.171444Z"
    }
   },
   "cell_type": "code",
   "source": [
    "# Question 3. Fuel types\n",
    "unique_count = df['fuel_type'].nunique()\n",
    "print('Number of variants fuel types: ', unique_count)"
   ],
   "id": "3ac55322e795359e",
   "outputs": [
    {
     "name": "stdout",
     "output_type": "stream",
     "text": [
      "Number of variants fuel types:  2\n"
     ]
    }
   ],
   "execution_count": 46
  },
  {
   "metadata": {
    "ExecuteTime": {
     "end_time": "2025-10-01T21:54:04.193028Z",
     "start_time": "2025-10-01T21:54:04.188094Z"
    }
   },
   "cell_type": "code",
   "source": [
    "# Question 4. Missing values\n",
    "num_of_missing_columns = (df.isnull().sum() > 0).sum()\n",
    "print(num_of_missing_columns)\n",
    "print('Number of missing values: ', num_of_missing_columns)"
   ],
   "id": "e10f453840df5d9a",
   "outputs": [
    {
     "name": "stdout",
     "output_type": "stream",
     "text": [
      "4\n",
      "Number of missing values:  4\n"
     ]
    }
   ],
   "execution_count": 47
  },
  {
   "metadata": {
    "ExecuteTime": {
     "end_time": "2025-10-01T21:54:04.205774Z",
     "start_time": "2025-10-01T21:54:04.201289Z"
    }
   },
   "cell_type": "code",
   "source": [
    "#Question 5. Max fuel efficiency\n",
    "asia_records = df[df['origin'] == 'Asia']\n",
    "max_mpg = asia_records['fuel_efficiency_mpg'].max()\n",
    "print('Maximum MPG is: ', max_mpg)"
   ],
   "id": "50e63bf2f670f847",
   "outputs": [
    {
     "name": "stdout",
     "output_type": "stream",
     "text": [
      "Maximum MPG is:  23.759122836520497\n"
     ]
    }
   ],
   "execution_count": 48
  },
  {
   "metadata": {
    "ExecuteTime": {
     "end_time": "2025-10-01T21:54:04.235441Z",
     "start_time": "2025-10-01T21:54:04.231119Z"
    }
   },
   "cell_type": "code",
   "source": [
    "#Q6. Median value of horsepower\n",
    "median_hp = df['horsepower'].median()\n",
    "print(median_hp)\n",
    "\n",
    "most_frequent_hp = df['horsepower'].mode()[0]\n",
    "print(most_frequent_hp)\n",
    "\n",
    "df['horsepower_filled'] = df['horsepower'].fillna(most_frequent_hp)\n",
    "\n",
    "new_median_hp = df['horsepower_filled'].median()\n",
    "print(new_median_hp)"
   ],
   "id": "3893829ce8c53f04",
   "outputs": [
    {
     "name": "stdout",
     "output_type": "stream",
     "text": [
      "149.0\n",
      "152.0\n",
      "152.0\n"
     ]
    }
   ],
   "execution_count": 49
  },
  {
   "metadata": {
    "ExecuteTime": {
     "end_time": "2025-10-01T21:54:04.245909Z",
     "start_time": "2025-10-01T21:54:04.241746Z"
    }
   },
   "cell_type": "code",
   "source": [
    "#Q7. Sum of weights\n",
    "asia_records = df[df['origin'] == 'Asia']\n",
    "df_asia_selected = asia_records[['vehicle_weight', 'model_year']]\n",
    "first_7_cars = df_asia_selected.head(7)\n",
    "x_array = first_7_cars.values\n",
    "XTX = np.dot(x_array.T, x_array)\n",
    "XTX_inv = np.linalg.inv(XTX)\n",
    "y = np.array([1100, 1300, 800, 900, 1000, 1100, 1200])\n",
    "w = np.dot(np.dot(XTX_inv, x_array.T), y)\n",
    "print(w.sum())"
   ],
   "id": "2ac54d818f679a09",
   "outputs": [
    {
     "name": "stdout",
     "output_type": "stream",
     "text": [
      "0.5187709081074006\n"
     ]
    }
   ],
   "execution_count": 50
  },
  {
   "metadata": {
    "ExecuteTime": {
     "end_time": "2025-10-01T21:54:04.255491Z",
     "start_time": "2025-10-01T21:54:04.254373Z"
    }
   },
   "cell_type": "code",
   "source": "",
   "id": "7975bfdd687cc0d5",
   "outputs": [],
   "execution_count": null
  }
 ],
 "metadata": {
  "kernelspec": {
   "display_name": "Python 3 (ipykernel)",
   "language": "python",
   "name": "python3"
  },
  "language_info": {
   "codemirror_mode": {
    "name": "ipython",
    "version": 3
   },
   "file_extension": ".py",
   "mimetype": "text/x-python",
   "name": "python",
   "nbconvert_exporter": "python",
   "pygments_lexer": "ipython3",
   "version": "3.13.7"
  }
 },
 "nbformat": 4,
 "nbformat_minor": 5
}
